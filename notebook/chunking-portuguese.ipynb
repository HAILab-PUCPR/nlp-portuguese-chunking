{
 "cells": [
  {
   "cell_type": "code",
   "execution_count": 1,
   "metadata": {},
   "outputs": [
    {
     "name": "stdout",
     "output_type": "stream",
     "text": [
      "Requirement already satisfied: spacy in c:\\users\\lisat\\anaconda3\\lib\\site-packages (2.3.7)\n",
      "Collecting spacy\n",
      "  Downloading spacy-3.4.0-cp38-cp38-win_amd64.whl (12.1 MB)\n",
      "Requirement already satisfied: pathy>=0.3.5 in c:\\users\\lisat\\anaconda3\\lib\\site-packages (from spacy) (0.5.2)\n",
      "Requirement already satisfied: requests<3.0.0,>=2.13.0 in c:\\users\\lisat\\anaconda3\\lib\\site-packages (from spacy) (2.25.1)\n",
      "Requirement already satisfied: tqdm<5.0.0,>=4.38.0 in c:\\users\\lisat\\anaconda3\\lib\\site-packages (from spacy) (4.62.3)\n",
      "Requirement already satisfied: setuptools in c:\\users\\lisat\\anaconda3\\lib\\site-packages (from spacy) (51.1.1)\n",
      "Requirement already satisfied: cymem<2.1.0,>=2.0.2 in c:\\users\\lisat\\anaconda3\\lib\\site-packages (from spacy) (2.0.4)\n",
      "Requirement already satisfied: numpy>=1.15.0 in c:\\users\\lisat\\anaconda3\\lib\\site-packages (from spacy) (1.19.5)\n",
      "Requirement already satisfied: packaging>=20.0 in c:\\users\\lisat\\anaconda3\\lib\\site-packages (from spacy) (21.3)\n",
      "Requirement already satisfied: preshed<3.1.0,>=3.0.2 in c:\\users\\lisat\\anaconda3\\lib\\site-packages (from spacy) (3.0.4)\n",
      "Requirement already satisfied: murmurhash<1.1.0,>=0.28.0 in c:\\users\\lisat\\anaconda3\\lib\\site-packages (from spacy) (1.0.4)\n",
      "Requirement already satisfied: pydantic!=1.8,!=1.8.1,<1.10.0,>=1.7.4 in c:\\users\\lisat\\anaconda3\\lib\\site-packages (from spacy) (1.8.2)\n",
      "Requirement already satisfied: jinja2 in c:\\users\\lisat\\anaconda3\\lib\\site-packages (from spacy) (2.11.2)\n",
      "Requirement already satisfied: typer<0.5.0,>=0.3.0 in c:\\users\\lisat\\anaconda3\\lib\\site-packages (from spacy) (0.3.2)\n",
      "Collecting catalogue<2.1.0,>=2.0.6\n",
      "  Downloading catalogue-2.0.7-py3-none-any.whl (17 kB)\n",
      "Collecting langcodes<4.0.0,>=3.2.0\n",
      "  Downloading langcodes-3.3.0-py3-none-any.whl (181 kB)\n",
      "Requirement already satisfied: pyparsing!=3.0.5,>=2.0.2 in c:\\users\\lisat\\anaconda3\\lib\\site-packages (from packaging>=20.0->spacy) (2.4.7)\n",
      "Requirement already satisfied: smart-open<4.0.0,>=2.2.0 in c:\\users\\lisat\\anaconda3\\lib\\site-packages (from pathy>=0.3.5->spacy) (3.0.0)\n",
      "Requirement already satisfied: typing-extensions>=3.7.4.3 in c:\\users\\lisat\\anaconda3\\lib\\site-packages (from pydantic!=1.8,!=1.8.1,<1.10.0,>=1.7.4->spacy) (3.7.4.3)\n",
      "Requirement already satisfied: idna<3,>=2.5 in c:\\users\\lisat\\anaconda3\\lib\\site-packages (from requests<3.0.0,>=2.13.0->spacy) (2.10)\n",
      "Requirement already satisfied: chardet<5,>=3.0.2 in c:\\users\\lisat\\anaconda3\\lib\\site-packages (from requests<3.0.0,>=2.13.0->spacy) (3.0.4)\n",
      "Requirement already satisfied: certifi>=2017.4.17 in c:\\users\\lisat\\anaconda3\\lib\\site-packages (from requests<3.0.0,>=2.13.0->spacy) (2020.6.20)\n",
      "Requirement already satisfied: urllib3<1.27,>=1.21.1 in c:\\users\\lisat\\anaconda3\\lib\\site-packages (from requests<3.0.0,>=2.13.0->spacy) (1.25.11)\n",
      "Collecting spacy-legacy<3.1.0,>=3.0.9\n",
      "  Downloading spacy_legacy-3.0.9-py2.py3-none-any.whl (20 kB)\n",
      "Collecting spacy-loggers<2.0.0,>=1.0.0\n",
      "  Downloading spacy_loggers-1.0.2-py3-none-any.whl (7.2 kB)\n",
      "Collecting srsly<3.0.0,>=2.4.3\n",
      "  Downloading srsly-2.4.3-cp38-cp38-win_amd64.whl (448 kB)\n",
      "Collecting thinc<8.2.0,>=8.1.0\n",
      "  Downloading thinc-8.1.0-cp38-cp38-win_amd64.whl (1.3 MB)\n",
      "Collecting blis<0.8.0,>=0.7.8\n",
      "  Downloading blis-0.7.8-cp38-cp38-win_amd64.whl (6.6 MB)\n",
      "Requirement already satisfied: colorama in c:\\users\\lisat\\anaconda3\\lib\\site-packages (from tqdm<5.0.0,>=4.38.0->spacy) (0.4.4)\n",
      "Requirement already satisfied: click<7.2.0,>=7.1.1 in c:\\users\\lisat\\anaconda3\\lib\\site-packages (from typer<0.5.0,>=0.3.0->spacy) (7.1.2)\n",
      "Collecting wasabi<1.1.0,>=0.9.1\n",
      "  Downloading wasabi-0.9.1-py3-none-any.whl (26 kB)\n",
      "Requirement already satisfied: MarkupSafe>=0.23 in c:\\users\\lisat\\anaconda3\\lib\\site-packages (from jinja2->spacy) (1.1.1)\n",
      "Installing collected packages: catalogue, wasabi, srsly, blis, thinc, spacy-loggers, spacy-legacy, langcodes, spacy\n",
      "  Attempting uninstall: catalogue\n",
      "    Found existing installation: catalogue 1.0.0\n",
      "    Uninstalling catalogue-1.0.0:\n",
      "      Successfully uninstalled catalogue-1.0.0\n",
      "  Attempting uninstall: wasabi\n",
      "    Found existing installation: wasabi 0.8.2\n",
      "    Uninstalling wasabi-0.8.2:\n",
      "      Successfully uninstalled wasabi-0.8.2\n",
      "  Attempting uninstall: srsly\n",
      "    Found existing installation: srsly 1.0.5\n",
      "    Uninstalling srsly-1.0.5:\n",
      "      Successfully uninstalled srsly-1.0.5\n"
     ]
    },
    {
     "name": "stderr",
     "output_type": "stream",
     "text": [
      "ERROR: Could not install packages due to an EnvironmentError: [WinError 5] Access is denied: 'C:\\\\Users\\\\lisat\\\\anaconda3\\\\Lib\\\\site-packages\\\\~-sly\\\\msgpack\\\\_packer.cp38-win_amd64.pyd'\n",
      "Consider using the `--user` option or check the permissions.\n",
      "\n",
      "WARNING: You are using pip version 20.3.3; however, version 22.1.2 is available.\n",
      "You should consider upgrading via the 'c:\\users\\lisat\\anaconda3\\python.exe -m pip install --upgrade pip' command.\n"
     ]
    },
    {
     "name": "stdout",
     "output_type": "stream",
     "text": [
      "Collecting pt_core_news_md==2.3.0\n",
      "  Downloading https://github.com/explosion/spacy-models/releases/download/pt_core_news_md-2.3.0/pt_core_news_md-2.3.0.tar.gz (50.8 MB)\n",
      "Building wheels for collected packages: pt-core-news-md\n",
      "  Building wheel for pt-core-news-md (setup.py): started\n",
      "  Building wheel for pt-core-news-md (setup.py): finished with status 'done'\n",
      "  Created wheel for pt-core-news-md: filename=pt_core_news_md-2.3.0-py3-none-any.whl size=50819353 sha256=8c670413b38d45990ab6bdc750f896c9950a6e84de60f9ce28b0d111b365b694\n",
      "  Stored in directory: c:\\users\\lisat\\appdata\\local\\pip\\cache\\wheels\\45\\7e\\5f\\9fae426c9fde294fffac05fc382d53bfdcd4a1ad211dd31a20\n",
      "Successfully built pt-core-news-md\n",
      "Installing collected packages: pt-core-news-md\n",
      "Successfully installed pt-core-news-md-2.3.0\n",
      "[!] Skipping model package dependencies and setting `--no-deps`. You don't seem\n",
      "to have the spaCy package itself installed (maybe because you've built from\n",
      "source?), so installing the model dependencies would cause spaCy to be\n",
      "downloaded, which probably isn't what you want. If the model package has other\n",
      "dependencies, you'll have to install them manually.\n",
      "[+] Download and installation successful\n",
      "You can now load the model via spacy.load('pt_core_news_md')\n"
     ]
    },
    {
     "name": "stderr",
     "output_type": "stream",
     "text": [
      "WARNING: You are using pip version 20.3.3; however, version 22.1.2 is available.\n",
      "You should consider upgrading via the 'C:\\Users\\lisat\\anaconda3\\python.exe -m pip install --upgrade pip' command.\n"
     ]
    }
   ],
   "source": [
    "!pip install -U spacy\n",
    "!python -m spacy download pt_core_news_md\n",
    "import spacy\n"
   ]
  },
  {
   "cell_type": "code",
   "execution_count": 2,
   "metadata": {},
   "outputs": [],
   "source": [
    "import pt_core_news_md\n",
    "nlp = pt_core_news_md.load()\n"
   ]
  },
  {
   "cell_type": "code",
   "execution_count": 3,
   "metadata": {},
   "outputs": [
    {
     "name": "stdout",
     "output_type": "stream",
     "text": [
      "['Data de Criação do Documento', '22/04/2014 Dispneia importante aos esforços', 'dor tipo peso no peito no esforço', 'Obeso has icc c cintilografia miocardica', 'angina']\n",
      "Data de Criação do Documento: 22/04/2014   Dispneia importante aos esforços + dor tipo peso no peito no esforço. Obeso, has, icc  c # cintilografia miocardica para avaliar angina.\n"
     ]
    }
   ],
   "source": [
    "def get_np(doc):\n",
    "        lista_chunks = []\n",
    "        all_novo_chunk = []\n",
    "        temNoun=0\n",
    "        tokens_chunk = []\n",
    "        for num, token in enumerate(doc):\n",
    "            if token.pos_ != 'VERB' and token.pos_ != 'AUX' and token.pos_ != 'PUNCT' and token.pos_ != 'PRON' and token.pos_ != 'SPACE' and token.text != '+' and token.text != '#':\n",
    "                if len(tokens_chunk)!=0 or (len(tokens_chunk)==0 and (token.pos_ != 'ADP' and token.pos_ != 'DET' and token.pos_ != 'SCONJ' and token.pos_ != 'CCONJ')):\n",
    "                  #chunk = chunk + token.text + ' '\n",
    "                  tokens_chunk.append(token)\n",
    "                if token.pos_ == 'NOUN':\n",
    "                  temNoun=1\n",
    "            else:\n",
    "              if len(tokens_chunk)!=0 and temNoun == 1:\n",
    "                novo_chunk = ''\n",
    "                # ver se os ultimos tokens não são DET, ADP, etc\n",
    "                #print(tokens_chunk)\n",
    "                deve_manter = 0\n",
    "                for i in range(len(tokens_chunk)-1,-1,-1):\n",
    "                  #print('i:', i)\n",
    "                  pos = tokens_chunk[i].pos_\n",
    "                  texto = tokens_chunk[i].text\n",
    "                  #print('pos:', pos)\n",
    "                  #print('texto:', texto)\n",
    "                  if pos != 'DET' and pos != 'SCONJ' and pos != 'CCONJ' and pos != 'ADP':\n",
    "                    deve_manter = 1\n",
    "\n",
    "                  if deve_manter==1:\n",
    "                    novo_chunk = texto+' '+novo_chunk\n",
    "                  else:\n",
    "                    #print('----descartando:-------', texto)\n",
    "                    pass\n",
    "                all_novo_chunk.append(novo_chunk.strip())\n",
    "                # acrescenta na lista\n",
    "                lista_chunks.append(tokens_chunk)\n",
    "                tokens_chunk = []\n",
    "                temNoun = 0\n",
    "        #print(all_novo_chunk)\n",
    "        return all_novo_chunk\n",
    "\n",
    " \n",
    "#ex = 'Eu estou tomando um ótimo café em um lugar com excelente vista, com um ótimo café quentinho.'\n",
    "#ex = 'Há um único quadro de leitura aberto iniciado por códon de metionina de 1.458 nt no quadro com uma homeobox e uma repetição CAX, e o quadro de leitura aberto está previsto para codificar uma proteína de 51.659 daltons.'\n",
    "ex = 'Data de Criação do Documento: 22/04/2014   Dispneia importante aos esforços + dor tipo peso no peito no esforço. Obeso, has, icc  c # cintilografia miocardica para avaliar angina.'\n",
    "doc = nlp(ex)\n",
    "\n",
    "print(get_np(doc))\n",
    "print(ex)\n"
   ]
  },
  {
   "cell_type": "code",
   "execution_count": null,
   "metadata": {},
   "outputs": [],
   "source": []
  }
 ],
 "metadata": {
  "kernelspec": {
   "display_name": "Python 3",
   "language": "python",
   "name": "python3"
  },
  "language_info": {
   "codemirror_mode": {
    "name": "ipython",
    "version": 3
   },
   "file_extension": ".py",
   "mimetype": "text/x-python",
   "name": "python",
   "nbconvert_exporter": "python",
   "pygments_lexer": "ipython3",
   "version": "3.8.5"
  }
 },
 "nbformat": 4,
 "nbformat_minor": 4
}
