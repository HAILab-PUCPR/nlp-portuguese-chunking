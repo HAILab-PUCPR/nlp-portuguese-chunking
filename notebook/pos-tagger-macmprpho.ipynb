{
 "cells": [
  {
   "cell_type": "code",
   "execution_count": 1,
   "metadata": {},
   "outputs": [],
   "source": [
    "from transformers import pipeline\n"
   ]
  },
  {
   "cell_type": "code",
   "execution_count": 2,
   "metadata": {},
   "outputs": [],
   "source": [
    "from transformers import AutoTokenizer, AutoModelForTokenClassification\n",
    "\n",
    "tokenizer = AutoTokenizer.from_pretrained(\"pucpr-br/postagger-bio-portuguese\")\n",
    "\n",
    "model = AutoModelForTokenClassification.from_pretrained(\"pucpr-br/postagger-bio-portuguese\")"
   ]
  },
  {
   "cell_type": "code",
   "execution_count": 3,
   "metadata": {},
   "outputs": [
    {
     "name": "stderr",
     "output_type": "stream",
     "text": [
      "C:\\Users\\lisat\\anaconda3\\lib\\site-packages\\transformers\\pipelines\\token_classification.py:135: UserWarning: `grouped_entities` is deprecated and will be removed in version v5.0.0, defaulted to `aggregation_strategy=\"AggregationStrategy.SIMPLE\"` instead.\n",
      "  warnings.warn(\n"
     ]
    },
    {
     "name": "stdout",
     "output_type": "stream",
     "text": [
      "[{'entity_group': 'N', 'score': 0.9984463, 'word': 'data', 'start': 0, 'end': 4}, {'entity_group': 'PREP', 'score': 0.99892265, 'word': 'de', 'start': 5, 'end': 7}, {'entity_group': 'N', 'score': 0.9986386, 'word': 'criacao', 'start': 8, 'end': 15}, {'entity_group': 'PREP+ART', 'score': 0.99924266, 'word': 'do', 'start': 16, 'end': 18}, {'entity_group': 'N', 'score': 0.9995184, 'word': 'documento', 'start': 19, 'end': 28}, {'entity_group': 'PU', 'score': 0.9995708, 'word': ':', 'start': 28, 'end': 29}, {'entity_group': 'N', 'score': 0.93106234, 'word': '22', 'start': 30, 'end': 32}, {'entity_group': 'PU', 'score': 0.9296589, 'word': '/', 'start': 32, 'end': 33}, {'entity_group': 'N', 'score': 0.9952407, 'word': '04', 'start': 33, 'end': 35}, {'entity_group': 'PU', 'score': 0.9972343, 'word': '/', 'start': 35, 'end': 36}, {'entity_group': 'N', 'score': 0.9981453, 'word': '2014 dispneia dor', 'start': 36, 'end': 53}, {'entity_group': 'ADJ', 'score': 0.9908963, 'word': 'importante', 'start': 54, 'end': 64}, {'entity_group': 'PREP+ART', 'score': 0.9865339, 'word': 'aos', 'start': 65, 'end': 68}, {'entity_group': 'N', 'score': 0.9989877, 'word': 'esforcos', 'start': 69, 'end': 77}, {'entity_group': 'PU', 'score': 0.45905176, 'word': '+', 'start': 78, 'end': 79}, {'entity_group': 'N', 'score': 0.8923089, 'word': 'dor tipo peso', 'start': 80, 'end': 93}, {'entity_group': 'PREP+ART', 'score': 0.99652904, 'word': 'no', 'start': 94, 'end': 96}, {'entity_group': 'N', 'score': 0.99906087, 'word': 'peito', 'start': 97, 'end': 102}, {'entity_group': 'PREP+ART', 'score': 0.9980399, 'word': 'no', 'start': 103, 'end': 105}, {'entity_group': 'N', 'score': 0.99927706, 'word': 'esforco', 'start': 106, 'end': 113}, {'entity_group': 'PU', 'score': 0.99967635, 'word': '.', 'start': 113, 'end': 114}, {'entity_group': 'N', 'score': 0.9423448, 'word': 'obeso', 'start': 115, 'end': 120}, {'entity_group': 'PU', 'score': 0.9997209, 'word': ',', 'start': 120, 'end': 121}, {'entity_group': 'N', 'score': 0.9930455, 'word': 'has', 'start': 122, 'end': 125}, {'entity_group': 'PU', 'score': 0.9997259, 'word': ',', 'start': 125, 'end': 126}, {'entity_group': 'N', 'score': 0.9469746, 'word': 'icc c', 'start': 127, 'end': 133}, {'entity_group': 'PU', 'score': 0.9922322, 'word': '#', 'start': 134, 'end': 135}, {'entity_group': 'N', 'score': 0.9983483, 'word': 'cintilografia', 'start': 136, 'end': 149}, {'entity_group': 'ADJ', 'score': 0.9886968, 'word': 'miocardica', 'start': 150, 'end': 160}, {'entity_group': 'PREP', 'score': 0.99916756, 'word': 'para', 'start': 161, 'end': 165}, {'entity_group': 'V', 'score': 0.997731, 'word': 'avaliar', 'start': 166, 'end': 173}, {'entity_group': 'N', 'score': 0.99895144, 'word': 'angina', 'start': 174, 'end': 180}, {'entity_group': 'PU', 'score': 0.99975985, 'word': '.', 'start': 180, 'end': 181}]\n"
     ]
    }
   ],
   "source": [
    "#model = AutoModelForTokenClassification.from_pretrained(\"pucpr-br/postagger-bio-portuguese\")\n",
    "#tokenizer = AutoTokenizer.from_pretrained('pucpr-br/postagger-bio-portuguese')\n",
    "\n",
    "nlp_token_class = pipeline('ner', model=model, tokenizer=tokenizer, grouped_entities=True)\n",
    "\n",
    "#frase = 'Data de Criação do Documento: 22/04/2014   Dispneia dor importante aos esforços + dor tipo peso no peito no esforço. Obeso, has, icc  c # cintilografia miocardica para avaliar angina.'\n",
    "frase = 'Data de Criação do Documento: 22/04/2014 Dispneia dor importante aos esforços + dor tipo peso no peito no esforço. Obeso, has, icc  c # cintilografia miocardica para avaliar angina.'\n",
    "\n",
    "doc = nlp_token_class(frase)\n",
    "print(doc)"
   ]
  },
  {
   "cell_type": "code",
   "execution_count": 4,
   "metadata": {},
   "outputs": [
    {
     "name": "stdout",
     "output_type": "stream",
     "text": [
      "Data - N\n",
      "de - PREP\n",
      "Criação - N\n",
      "do - PREP+ART\n",
      "Documento - N\n",
      ": - PU\n",
      "22 - N\n",
      "/ - PU\n",
      "04 - N\n",
      "/ - PU\n",
      "2014 Dispneia dor - N\n",
      "importante - ADJ\n",
      "aos - PREP+ART\n",
      "esforços - N\n",
      "+ - PU\n",
      "dor tipo peso - N\n",
      "no - PREP+ART\n",
      "peito - N\n",
      "no - PREP+ART\n",
      "esforço - N\n",
      ". - PU\n",
      "Obeso - N\n",
      ", - PU\n",
      "has - N\n",
      ", - PU\n",
      "icc  c - N\n",
      "# - PU\n",
      "cintilografia - N\n",
      "miocardica - ADJ\n",
      "para - PREP\n",
      "avaliar - V\n",
      "angina - N\n",
      ". - PU\n"
     ]
    }
   ],
   "source": [
    "for d in doc:\n",
    "        pos = d['entity_group']\n",
    "        text = frase[d['start']:d['end']]\n",
    "        print(text+\" - \"+pos)\n",
    "        "
   ]
  },
  {
   "cell_type": "code",
   "execution_count": 6,
   "metadata": {},
   "outputs": [
    {
     "name": "stderr",
     "output_type": "stream",
     "text": [
      "Asking to truncate to max_length but no maximum length is provided and the model has no predefined maximum length. Default to no truncation.\n"
     ]
    },
    {
     "name": "stdout",
     "output_type": "stream",
     "text": [
      "[{'entity_group': 'N', 'score': 0.9971328, 'word': 'Data', 'start': 0, 'end': 4}, {'entity_group': 'PREP', 'score': 0.99777585, 'word': 'de', 'start': 5, 'end': 7}, {'entity_group': 'N', 'score': 0.99798584, 'word': 'Criação', 'start': 8, 'end': 15}, {'entity_group': 'PREP+ART', 'score': 0.998069, 'word': 'do', 'start': 16, 'end': 18}, {'entity_group': 'N', 'score': 0.9988791, 'word': 'Documento', 'start': 19, 'end': 28}, {'entity_group': 'PU', 'score': 0.9998934, 'word': ':', 'start': 28, 'end': 29}, {'entity_group': 'N', 'score': 0.9950276, 'word': '22', 'start': 30, 'end': 32}, {'entity_group': 'PU', 'score': 0.95588565, 'word': '/', 'start': 32, 'end': 33}, {'entity_group': 'N', 'score': 0.99872977, 'word': '04', 'start': 33, 'end': 35}, {'entity_group': 'PU', 'score': 0.9997576, 'word': '/', 'start': 35, 'end': 36}, {'entity_group': 'N', 'score': 0.99672973, 'word': '2014', 'start': 36, 'end': 40}, {'entity_group': 'V', 'score': 0.998827, 'word': 'Dispneia', 'start': 43, 'end': 51}, {'entity_group': 'N', 'score': 0.9990994, 'word': 'dor', 'start': 52, 'end': 55}, {'entity_group': 'ADJ', 'score': 0.9992865, 'word': 'importante', 'start': 56, 'end': 66}, {'entity_group': 'PREP+ART', 'score': 0.99967754, 'word': 'aos', 'start': 67, 'end': 70}, {'entity_group': 'N', 'score': 0.9997676, 'word': 'esforços', 'start': 71, 'end': 79}, {'entity_group': 'PU', 'score': 0.9358366, 'word': '+', 'start': 80, 'end': 81}, {'entity_group': 'N', 'score': 0.9885419, 'word': 'dor tipo peso', 'start': 82, 'end': 95}, {'entity_group': 'PREP+ART', 'score': 0.9995365, 'word': 'no', 'start': 96, 'end': 98}, {'entity_group': 'N', 'score': 0.99965835, 'word': 'peito', 'start': 99, 'end': 104}, {'entity_group': 'PREP+ART', 'score': 0.9997279, 'word': 'no', 'start': 105, 'end': 107}, {'entity_group': 'N', 'score': 0.99975294, 'word': 'esforço', 'start': 108, 'end': 115}, {'entity_group': 'PU', 'score': 0.9999572, 'word': '.', 'start': 115, 'end': 116}, {'entity_group': 'ADJ', 'score': 0.5807517, 'word': 'Ob', 'start': 117, 'end': 119}, {'entity_group': 'N', 'score': 0.52704656, 'word': '##eso', 'start': 119, 'end': 122}, {'entity_group': 'PU', 'score': 0.99995446, 'word': ',', 'start': 122, 'end': 123}, {'entity_group': 'IN', 'score': 0.6849457, 'word': 'has', 'start': 124, 'end': 127}, {'entity_group': 'PU', 'score': 0.99995124, 'word': ',', 'start': 127, 'end': 128}, {'entity_group': 'N', 'score': 0.85862905, 'word': 'icc c # cintilografia', 'start': 129, 'end': 151}, {'entity_group': 'ADJ', 'score': 0.9934029, 'word': 'miocardica', 'start': 152, 'end': 162}, {'entity_group': 'PREP', 'score': 0.9992888, 'word': 'para', 'start': 163, 'end': 167}, {'entity_group': 'V', 'score': 0.9992299, 'word': 'avaliar', 'start': 168, 'end': 175}, {'entity_group': 'N', 'score': 0.9988467, 'word': 'angina', 'start': 176, 'end': 182}, {'entity_group': 'PU', 'score': 0.99996364, 'word': '.', 'start': 182, 'end': 183}]\n"
     ]
    }
   ],
   "source": [
    "model = AutoModelForTokenClassification.from_pretrained(\"lisaterumi/postagger-portuguese\")\n",
    "tokenizer = AutoTokenizer.from_pretrained('lisaterumi/postagger-portuguese')\n",
    "\n",
    "nlp_token_class = pipeline('ner', model=model, tokenizer=tokenizer, grouped_entities=True)\n",
    "\n",
    "frase = 'Data de Criação do Documento: 22/04/2014   Dispneia dor importante aos esforços + dor tipo peso no peito no esforço. Obeso, has, icc  c # cintilografia miocardica para avaliar angina.'\n",
    "\n",
    "doc = nlp_token_class(frase)\n",
    "print(doc)"
   ]
  },
  {
   "cell_type": "code",
   "execution_count": 7,
   "metadata": {},
   "outputs": [
    {
     "name": "stdout",
     "output_type": "stream",
     "text": [
      "Data - N\n",
      "de - PREP\n",
      "Criação - N\n",
      "do - PREP+ART\n",
      "Documento - N\n",
      ": - PU\n",
      "22 - N\n",
      "/ - PU\n",
      "04 - N\n",
      "/ - PU\n",
      "2014 - N\n",
      "Dispneia - V\n",
      "dor - N\n",
      "importante - ADJ\n",
      "aos - PREP+ART\n",
      "esforços - N\n",
      "+ - PU\n",
      "dor tipo peso - N\n",
      "no - PREP+ART\n",
      "peito - N\n",
      "no - PREP+ART\n",
      "esforço - N\n",
      ". - PU\n",
      "Ob - ADJ\n",
      "eso - N\n",
      ", - PU\n",
      "has - IN\n",
      ", - PU\n",
      "icc  c # cintilografia - N\n",
      "miocardica - ADJ\n",
      "para - PREP\n",
      "avaliar - V\n",
      "angina - N\n",
      ". - PU\n"
     ]
    }
   ],
   "source": [
    "for d in doc:\n",
    "        pos = d['entity_group']\n",
    "        text = frase[d['start']:d['end']]\n",
    "        print(text+\" - \"+pos)\n",
    "        "
   ]
  },
  {
   "cell_type": "code",
   "execution_count": null,
   "metadata": {},
   "outputs": [],
   "source": []
  }
 ],
 "metadata": {
  "kernelspec": {
   "display_name": "Python 3",
   "language": "python",
   "name": "python3"
  },
  "language_info": {
   "codemirror_mode": {
    "name": "ipython",
    "version": 3
   },
   "file_extension": ".py",
   "mimetype": "text/x-python",
   "name": "python",
   "nbconvert_exporter": "python",
   "pygments_lexer": "ipython3",
   "version": "3.8.5"
  }
 },
 "nbformat": 4,
 "nbformat_minor": 4
}
